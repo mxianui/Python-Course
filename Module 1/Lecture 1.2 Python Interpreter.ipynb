{
 "cells": [
  {
   "cell_type": "markdown",
   "metadata": {},
   "source": [
    "# Module 1"
   ]
  },
  {
   "cell_type": "markdown",
   "metadata": {},
   "source": [
    "## Lecture 1.2 Python Interpreter"
   ]
  },
  {
   "cell_type": "markdown",
   "metadata": {},
   "source": [
    "The lecture introduces the Python interpreter, and explains how programs are executed in Python.\n",
    "\n",
    "The lecture contains the following subsections:\n",
    "- Introduction to the Python Interpreter\n",
    "- Program Execution\n",
    "- Execution Model Variations\n",
    "\n",
    "The next lecture will explain how to run your own codes in Python."
   ]
  },
  {
   "cell_type": "markdown",
   "metadata": {},
   "source": [
    "### 1.2.1 Introduction to the Python Interpreter"
   ]
  },
  {
   "cell_type": "markdown",
   "metadata": {},
   "source": [
    ">\n",
    "> The ***interpreter*** in Python is the program that executes other programs. \n",
    ">"
   ]
  },
  {
   "cell_type": "markdown",
   "metadata": {},
   "source": [
    "In other words, the interpreter is the engine of Python that executes other programs. When you run your programs in Python, the interpreter reads your programs, and carries out the instructions contained in the program. Or, we can say that the interpreter interprets your codes and enables the hardware on your computer to execute the program."
   ]
  },
  {
   "cell_type": "markdown",
   "metadata": {},
   "source": [
    "When you install Python on your computer, the Python interpreter will be part of the installation, either as an executable program, or as a set of linked libraries. Note that there are several different Python installations, and depending on the type of Python installation you have on your computer, the interpreter may be implemented as a C program, a set of Java classes, or\n",
    "in another programming language. "
   ]
  },
  {
   "cell_type": "markdown",
   "metadata": {},
   "source": [
    "### 1.2.2 Program Execution"
   ]
  },
  {
   "cell_type": "markdown",
   "metadata": {},
   "source": [
    "Understanding how the programs are executed in Python can be helpful for programmers. We will first look at how the programmer perceives the program execution, and afterwards we will explain the program execution from Python's perspective."
   ]
  },
  {
   "cell_type": "markdown",
   "metadata": {},
   "source": [
    "#### The Programmer's View"
   ]
  },
  {
   "cell_type": "markdown",
   "metadata": {},
   "source": [
    "The programs in Python are files containing Python statements. Jupyter notebooks allow to execute Python statements directly as they are typed in the notebook cells (Jupyter notebooks will be explained in the last lecture of Module 1)."
   ]
  },
  {
   "cell_type": "markdown",
   "metadata": {},
   "source": [
    "For instance, let's consider the following simple Python program. It contains two print statements, of which, the first one prints the text `Hello world!` and the second prints the result of the multiplication 2*5. To execute the program, we need to select the cell, and either click on the `Run` button in the top menu of the Jupyter notebook, or press the `Shift` and `Enter` keys on the keyboard."
   ]
  },
  {
   "cell_type": "code",
   "execution_count": 1,
   "metadata": {},
   "outputs": [
    {
     "name": "stdout",
     "output_type": "stream",
     "text": [
      "Hello world!\n",
      "10\n"
     ]
    }
   ],
   "source": [
    "print('Hello world!')\n",
    "print(2*5)"
   ]
  },
  {
   "cell_type": "markdown",
   "metadata": {},
   "source": [
    "This way of running programs in called ***interactive programming***, because the statements are executed directly as they are typed. "
   ]
  },
  {
   "cell_type": "markdown",
   "metadata": {},
   "source": [
    "On the other hand, it is often more practical to save the statements into a permanent file, which can be later reused. These files are commonly called ***modules***. Sometimes they are also called *programs* or *scripts*. Although, in some references the term *script* is used for the main top-level file from a series of modules, whereas in other references the term *script* is used to refer to any Python file. "
   ]
  },
  {
   "cell_type": "markdown",
   "metadata": {},
   "source": [
    ">  \n",
    "> ***Module*** is a saved Python file that contains Python statements; the file can be used by other programs. Modules are also often called scripts or programs.\n",
    ">  "
   ]
  },
  {
   "cell_type": "markdown",
   "metadata": {},
   "source": [
    "To do that, we can open any text editor, and save the statements. In my case, I will use Notepad, and save the file as *module1.py*. Note that Python files have the extension *.py*."
   ]
  },
  {
   "cell_type": "markdown",
   "metadata": {},
   "source": [
    "<img style=\"float: left; height:180px;\" src=\"images/pic1.jpg\">"
   ]
  },
  {
   "cell_type": "markdown",
   "metadata": {},
   "source": [
    "**Note:** running Python files will be covered in the next lecture in detail, and you will learn about the different ways to execute Python files."
   ]
  },
  {
   "cell_type": "markdown",
   "metadata": {},
   "source": [
    "For the purpose of this lecture, we can open a Command Window (I am using a Windows computer), and we can run the file by typing in the Command Prompt line `python module1.py`. Python will execute the file by running all statements from top to bottom. The output of the program is again `Hello world!` and `10`."
   ]
  },
  {
   "cell_type": "markdown",
   "metadata": {},
   "source": [
    "<img style=\"float: left; height:240px;\" src=\"images/pic2.jpg\">"
   ]
  },
  {
   "cell_type": "markdown",
   "metadata": {},
   "source": [
    "We could have also run the file directly in the Jupyter notebook, by typing either `!python module1.py` or `%run module1.py`, as shown below. Again, more on code running is in the next lecture."
   ]
  },
  {
   "cell_type": "code",
   "execution_count": 2,
   "metadata": {},
   "outputs": [
    {
     "name": "stdout",
     "output_type": "stream",
     "text": [
      "Hello world!\n",
      "10\n"
     ]
    }
   ],
   "source": [
    "!python module1.py"
   ]
  },
  {
   "cell_type": "code",
   "execution_count": 3,
   "metadata": {},
   "outputs": [
    {
     "name": "stdout",
     "output_type": "stream",
     "text": [
      "Hello world!\n",
      "10\n"
     ]
    }
   ],
   "source": [
    "%run module1.py"
   ]
  },
  {
   "cell_type": "markdown",
   "metadata": {},
   "source": [
    "#### Python's View"
   ]
  },
  {
   "cell_type": "markdown",
   "metadata": {},
   "source": [
    "When we run programs in Python, the programs are first compiled into ***byte code***, and are afterward run by a  ***Python virtual machine (PVM)***, as shown in the figure below."
   ]
  },
  {
   "cell_type": "markdown",
   "metadata": {},
   "source": [
    "<img style=\"float: left; height:200px;\" src=\"images/pic3.jpg\">"
   ]
  },
  {
   "cell_type": "markdown",
   "metadata": {},
   "source": [
    "***Byte code*** is a format into which the ***source code*** (the statements in your file) is compiled by the Python interpreter. The statements in the source file are translated into byte code instructions. Byte-code is platform-independent (i.e., it can be run on Windows, Linux, MacOS), and it can be run more quickly than the source code program.  "
   ]
  },
  {
   "cell_type": "markdown",
   "metadata": {},
   "source": [
    "> ***Byte code*** is a lower-level, platform-independent representation of the source code."
   ]
  },
  {
   "cell_type": "markdown",
   "metadata": {},
   "source": [
    "The byte code is stored into a file with a *.pyc* extension, which stands for compiled .py file. The .pyc files are saved in a subdirectory named\n",
    "\\_\\_pycache\\_\\_ located in the same directory where the source file is saved."
   ]
  },
  {
   "cell_type": "markdown",
   "metadata": {},
   "source": [
    "For example, the directory where *module1.py* is saved on my computer is shown below, and the \\_\\_pycache\\_\\_ subdirectory was automatically created by Python (after the module was imported: covered in the next lecture).  "
   ]
  },
  {
   "cell_type": "markdown",
   "metadata": {},
   "source": [
    "<img style=\"float: left; height:180px;\" src=\"images/pic4.jpg\">"
   ]
  },
  {
   "cell_type": "markdown",
   "metadata": {},
   "source": [
    "Within the subdirectory is the byte code file named *module1.cpython-36*. The name indicates that the Python installation on my computer uses the CPython interpreter, and the installed Python version is 3.6. Note that the file type is PYC file, meaning a .pyc extension."
   ]
  },
  {
   "cell_type": "markdown",
   "metadata": {},
   "source": [
    "<img style=\"float: left; height:140px;\" src=\"images/pic5.jpg\">"
   ]
  },
  {
   "cell_type": "markdown",
   "metadata": {},
   "source": [
    "Byte code is saved for speed optimization. When I run module1.py next time, Python will skip the compilation step, and it will directly load the saved .pyc byte code file. However, if the original source code file module1.py was modified, Python will re-compile and update the byte code file. Similarly, if a different version of Python is installed, a new byte code file will be created that matches the current version of Python."
   ]
  },
  {
   "cell_type": "markdown",
   "metadata": {},
   "source": [
    "Byte codes are not created for commands that are executed interactively in the notebook cells."
   ]
  },
  {
   "cell_type": "markdown",
   "metadata": {},
   "source": [
    "***Python virtual machine*** (PVM) is the last part of the Python interpreter. PVM executes the byte code instructions one-by-one, i.e., it is the component that runs the programs. PVM is not a separate program, and it  does not need to be installed separately: it is part of the Python installation. "
   ]
  },
  {
   "cell_type": "markdown",
   "metadata": {},
   "source": [
    "> A ***virtual machine (VM)*** is a virtual representation of a physical computer. A VM needs a software layer to allocates physical computing resources—such as processors, memory, and storage. PVM translates byte code files and executes the code by the physical computer."
   ]
  },
  {
   "cell_type": "markdown",
   "metadata": {},
   "source": [
    "To repeat again, Python belongs to the group of *interpreted languages*, or they are also called *scripting languages* (other languages in this group are Perl, Ruby). The Python interpreter reads the statements in source files and converts them into byte code files, which are afterwards executed by the PVM. Conversely, Java, C, and C++ belong to the group of *compiled languages*. In these languages, a compiler converts the statements in source files into binary machine code, which are afterwards executed by the computer hardware. Note that byte code files are different than binary machine code files. Consequently, running Python programs is slower than running C or C++ programs, because the code is interpreted as it is executed. On the other hand, writing and testing Python programs is faster and easier than writing and testing programs with the compiled languages. (One last clarification: Python does compile source files, but the result is not a binary machine code, and because of that it is not considered a compiled language)."
   ]
  },
  {
   "cell_type": "markdown",
   "metadata": {},
   "source": [
    "Also, in Python the compilation and execution of codes are performed at runtime, i.e., everything happens as the programs are run. This creates an environment suitable for fast development of new programs."
   ]
  },
  {
   "cell_type": "markdown",
   "metadata": {},
   "source": [
    "> ***Interpreted languages*** compile and execute source codes at runtime, in a single step. ***Compiled languages*** first compile source codes, and in the second step the compiled code is executed."
   ]
  },
  {
   "cell_type": "markdown",
   "metadata": {},
   "source": [
    "### 1.2.3 Execution Model Variations"
   ]
  },
  {
   "cell_type": "markdown",
   "metadata": {},
   "source": [
    "As we mentioned earlier, there are several different Python implementations. In this section, we will describe the main characteristics of five most common implementations: CPython, Jython, IronPython, Stackless Python, and PyPy."
   ]
  },
  {
   "cell_type": "markdown",
   "metadata": {},
   "source": [
    "***CPython*** is the standard, original implementation of Python. The name CPython is because it is coded in portable ANSI C language code. ANSI C is a version of the C programming language developed by following standards defined by the American National Standards Institute (ANSI). Portability refers to the ability for using the compiled codes by different computer architectures. \n",
    "\n",
    "The Python interpreter which we described in the previous section is based on CPython implementation. E.g., recall that the compiled byte code file was automatically saved as module1.cpython-36, indicating that a CPython interpreter is used.\n",
    "\n",
    "Being the reference implementation of the language, CPython is the most complete and robust implementation. It is the default implementation offered for download and installation from [http://www.python.org](http://www.python.org)."
   ]
  },
  {
   "cell_type": "markdown",
   "metadata": {},
   "source": [
    "***Jython*** is a Python implementation targeted for integration with the Java programming language. Differently from the CPython interpreter, the interpreter in Jython consists of codes written in Java, which compile source code to Java byte code, and then uses Java virtual machine (JVM) to execute the byte code. The source codes are written and saved in .py files as usual, however, the interpretation is different and it is Java-based. \n",
    "\n",
    "Jython allows Python code to import and use Java programs and packages as though they were coded in Python, as well as Jython codes can be embedded into Java programs. As Python programs are 2-10 times shorter than corresponding Java programs, Jython can speed up the development of Java programs. Still, Jython is less commonly used than CPython. More information can be found on the website [http://jython.org](http://jython.org)."
   ]
  },
  {
   "cell_type": "markdown",
   "metadata": {},
   "source": [
    "***IronPython*** was designed to allow Python programs to integrate with applications coded to work with Microsoft’s .NET Framework for Windows. Microsoft developed .NET as a programming environment for building and running Windows apps and web-based apps. .NET provides code interoperability across several programming languages, and its Common Language Runtime (CLR) environment allows the developed program to exhibit common behaviors in memory usage, exception handling, and security. IronPython uses an interpreter that compiles and executes source files using .NET-based codes. More details can be found at [http://ironpython.net](http://ironpython.net)."
   ]
  },
  {
   "cell_type": "markdown",
   "metadata": {},
   "source": [
    "***Stackless Python*** is a variant of the standard CPython implementation that focuses on concurrency. Stackless Python does not depend on the C call stack, and uses its own stack. This provides efficient multiprocessing options via microthreads, and allows running a large number of microthreads in a main thread. For more details, please visit [http//stackless.com](http://stackless.com)."
   ]
  },
  {
   "cell_type": "markdown",
   "metadata": {},
   "source": [
    "***PyPy*** is another variant of the standard CPython implementation that focuses on performance. It provides a fast Python implementation with a JIT (just-in-time) compiler, and it also has support for using Stackless systems with microthreads to boost concurrent execution. A JIT compiler is an extension to the Python interpreter, that translates portions of the byte code all the way to binary machine code as the program is executed. Latest comparisons of PyPy on a set of benchmarks claim an average speedup of 4.3 times over CPython ([https://speed.pypy.org](https://speed.pypy.org)). In addition, the memory space is also optimized with PyPy in comparison to CPython. PyPy also allows tools for \"sandboxing,\" which means running untrusted user programs in a secure environment. More information can be found at [http://pypy.org](http://pypy.org)."
   ]
  },
  {
   "cell_type": "markdown",
   "metadata": {},
   "source": [
    "#### Execution Optimization Tools"
   ]
  },
  {
   "cell_type": "markdown",
   "metadata": {},
   "source": [
    "There are also several other tools, which similarly to PyPy optimize the execution of Python codes. Notable examples include:\n",
    "- ***Cython*** is a programming language that combines Python code with C functions and C type declarations for variables, parameters, and class attributes. Cython codes can be compiled to C code, and then to machine code, for improved speed and efficiency. \n",
    "- ***Shed Skin*** is a translator of Python code to C++ code, which is afterward compiled to machine code. "
   ]
  },
  {
   "cell_type": "markdown",
   "metadata": {},
   "source": [
    "#### Frozen Binaries"
   ]
  },
  {
   "cell_type": "markdown",
   "metadata": {},
   "source": [
    "***Frozen binaries*** are standalone binary executables from their Python programs. Frozen binaries can be shipped to an end-user, who can run the binaries without requiring to have a Python installation on his/her computer.\n",
    "\n",
    "Frozen binaries bundle together the byte code of your program files, along with the PVM and any Python support files your program needs, into a single package. The end result is a single binary executable program (e.g., an .exe file on Windows) that can be shipped to customers.\n",
    "\n",
    "Frozen binaries don't allow the end-user access to the source codes, which can be useful if it is preferred to maintain the privacy or security of the developed codes. This scenario of packaging source code into an executable is especially appealing to developers of commercial software, since the source code is hidden from the users."
   ]
  }
 ],
 "metadata": {
  "kernelspec": {
   "display_name": "Python 3",
   "language": "python",
   "name": "python3"
  },
  "language_info": {
   "codemirror_mode": {
    "name": "ipython",
    "version": 3
   },
   "file_extension": ".py",
   "mimetype": "text/x-python",
   "name": "python",
   "nbconvert_exporter": "python",
   "pygments_lexer": "ipython3",
   "version": "3.6.8"
  }
 },
 "nbformat": 4,
 "nbformat_minor": 2
}
