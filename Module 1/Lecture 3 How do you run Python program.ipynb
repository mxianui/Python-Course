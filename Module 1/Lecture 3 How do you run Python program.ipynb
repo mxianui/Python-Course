{
 "cells": [
  {
   "cell_type": "markdown",
   "metadata": {},
   "source": [
    "# Lecture 3\n",
    "\n",
    "At this point, we are ready to start real Python programming. If you have difficulties in python installation, please refer to the first lecture note. The lecture is to explain how to run python program using terminals and IDEs. "
   ]
  },
  {
   "cell_type": "markdown",
   "metadata": {},
   "source": [
    "### Quick review"
   ]
  },
  {
   "attachments": {},
   "cell_type": "markdown",
   "metadata": {},
   "source": [
    "Lecture 1\n",
    "- Python is a powerful, interpreted (official implementation), high-level, general-purpose programming language.\n",
    "- Created by **Guido van Rossum** and first released in **1991**.\n",
    "- Python is named after the British comedy group **Monty Python**.\n",
    "- Python's design philosophy emphasizes **code readability**.\n",
    "- It supports multiple programming paradigms, structured (particularly, procedural), object-oriented, and functional programming.\n",
    "- Python 3.0, released in 2008, was a major revision.  It is not completely backward-compatible.\n",
    "- The two most compelling benefits:  **Software quality** and **Productivity**\n",
    "\n",
    "Lecture 2\n",
    "- The **interpreter** interprets your codes and enables the hardware on your computer to understand and execute the program.\n",
    "- **Interpreted languages** compile and execute source codes at runtime, in a single step. **Compiled languages** first compile source codes, and in the second step the compiled code is executed."
   ]
  },
  {
   "cell_type": "markdown",
   "metadata": {},
   "source": [
    "## Run code interactively"
   ]
  },
  {
   "cell_type": "markdown",
   "metadata": {},
   "source": [
    "## The interactive prompt/terminal"
   ]
  },
  {
   "cell_type": "markdown",
   "metadata": {},
   "source": [
    "Start a command line terminal\n",
    "- Windows: click Start-->Command Prompt \n",
    "- Mac OS: Applications--> Utiities--> Terminal\n",
    "- Linux: any shell or terminal window, e.g. xterm"
   ]
  },
  {
   "cell_type": "markdown",
   "metadata": {},
   "source": [
    "Where to run: set the code directory\n",
    "\n",
    "- Use 'cd' commmand to change your code fold, e.g., cd desktop\n",
    "- Use 'mkdir' to create a folder, e.g., mkdir python\n",
    "- 'cd python' to move to the new folder"
   ]
  },
  {
   "cell_type": "markdown",
   "metadata": {},
   "source": [
    "Run python code in terminal\n",
    "\n",
    " - Run python by input *python* in the terminal and press enter. (ctrl + z'/'cmd + z' to stop python). if successful, the terminal will show pyton version and and a new line starts with *>>>*. Then you can test any python code here.\n",
    " - input *print('hello python.')* and check the output."
   ]
  },
  {
   "cell_type": "markdown",
   "metadata": {},
   "source": [
    "Why the interactive terminal\n",
    "- It runs code and ecohes results as you go.\n",
    "- It is a great place to experiment with the language while you are learning. You can use the immediate feedback from the terminal to deduce what a piece of code does. Try the following python code in the terminal.\n",
    "```python\n",
    "    'spam'*3\n",
    "```\n",
    "- It is a good place to test your code, e.g., functions and classes.\n",
    "```python\n",
    "    import os\n",
    "    os.getcwd()  # this function get the current working directory\n",
    "```\n",
    "\n",
    "Drawbacks\n",
    "- It does not save the code.\n",
    "- It runs one statement at a time."
   ]
  },
  {
   "cell_type": "markdown",
   "metadata": {},
   "source": [
    "#### Create and run our first python file in terminal\n",
    "- Create a python file in current folder '\\Desktop\\python'. You can use notepad or any other text editor. Add the following four lines of code in the file. Save the file as 'first.py'\n",
    "```python\n",
    "s1 = 'who are we?'\n",
    "s2 = 'why are we here?'\n",
    "s3 = 'where are we going?'\n",
    "print(s1, s2, s3)\n",
    "```\n",
    "\n",
    "- Run the file by input: *python first.py*"
   ]
  },
  {
   "cell_type": "markdown",
   "metadata": {},
   "source": [
    "## Jupyter notebook"
   ]
  },
  {
   "cell_type": "markdown",
   "metadata": {},
   "source": [
    "#### Jupyter notebook is an interactive environment for Python programming. \n",
    "- It is a great tool for beginners to learn Python.\n",
    "- It is good at demonstrate or present our results."
   ]
  },
  {
   "cell_type": "code",
   "execution_count": 9,
   "metadata": {},
   "outputs": [],
   "source": [
    "# show the python philosophy\n",
    "import this"
   ]
  },
  {
   "cell_type": "markdown",
   "metadata": {},
   "source": [
    "#### Several shortcuts:\n",
    "\n",
    "- Shift + Enter: run a cell\n",
    "- M: change a cell to markdown\n",
    "- Y: change a cell to code\n",
    "- A: insert a cell above\n",
    "- B: insert a cell bellow"
   ]
  },
  {
   "cell_type": "code",
   "execution_count": 10,
   "metadata": {},
   "outputs": [
    {
     "name": "stdout",
     "output_type": "stream",
     "text": [
      "Python programming using Jupyter notebook\n"
     ]
    }
   ],
   "source": [
    "print('Python programming using Jupyter notebook')"
   ]
  },
  {
   "cell_type": "markdown",
   "metadata": {},
   "source": [
    "#### Modules and import\n",
    "- Every python source file whose name end in a *.py* extension is a module\n",
    "- No special code is required to make a file a module\n",
    "- Other files/modules can access the contents of a module by **import** the module"
   ]
  },
  {
   "cell_type": "code",
   "execution_count": 23,
   "metadata": {},
   "outputs": [
    {
     "name": "stdout",
     "output_type": "stream",
     "text": [
      "hello python\n",
      "why am I here?\n",
      "hello python\n"
     ]
    }
   ],
   "source": [
    "import first\n",
    "\n",
    "#get access to attributes/variables in module first\n",
    "print(first.s1)\n",
    "print(first.s2)\n",
    "\n",
    "first.s1 = 'hello python' # change s1\n",
    "print(first.s1)"
   ]
  },
  {
   "cell_type": "code",
   "execution_count": 31,
   "metadata": {},
   "outputs": [
    {
     "name": "stdout",
     "output_type": "stream",
     "text": [
      "who am I? why am I here? where am I going?\n",
      "s1: who am I?\n"
     ]
    }
   ],
   "source": [
    "# changes of the imported module only happen in the memory\n",
    "from imp import reload\n",
    "reload(first)\n",
    "\n",
    "print('s1:', first.s1)"
   ]
  },
  {
   "cell_type": "markdown",
   "metadata": {},
   "source": [
    "## The Integrated development enviroment (IDE)"
   ]
  },
  {
   "cell_type": "markdown",
   "metadata": {},
   "source": [
    "IDEs provide graphical user interfaces for doing python programming, and it is a desktop GUI taht lets us edit, browse, and debug Python programs in a single interface."
   ]
  },
  {
   "cell_type": "markdown",
   "metadata": {},
   "source": [
    "1. Spyder\n",
    "2. PyCharm\n",
    "4. Visual Studio\n",
    "4. IDLE"
   ]
  },
  {
   "cell_type": "markdown",
   "metadata": {},
   "source": [
    "#### Use Spyder\n",
    "- Windows: start-->spyder\n",
    "- open the first.py file\n",
    "- set the working directory by right clicking the file tab\n",
    "- set a break point by clicking the right size of the line number\n",
    "- Debug a file"
   ]
  },
  {
   "cell_type": "code",
   "execution_count": null,
   "metadata": {},
   "outputs": [],
   "source": []
  }
 ],
 "metadata": {
  "kernelspec": {
   "display_name": "Python 3",
   "language": "python",
   "name": "python3"
  },
  "language_info": {
   "codemirror_mode": {
    "name": "ipython",
    "version": 3
   },
   "file_extension": ".py",
   "mimetype": "text/x-python",
   "name": "python",
   "nbconvert_exporter": "python",
   "pygments_lexer": "ipython3",
   "version": "3.7.3"
  }
 },
 "nbformat": 4,
 "nbformat_minor": 4
}
